{
 "cells": [
  {
   "cell_type": "code",
   "execution_count": 22,
   "id": "81457cee-e9be-4053-a236-601987f15592",
   "metadata": {},
   "outputs": [],
   "source": [
    "import pandas as pd\n",
    "import numpy as np \n"
   ]
  },
  {
   "cell_type": "code",
   "execution_count": 3,
   "id": "0a831bbb-1046-477d-b919-05c130a84dd6",
   "metadata": {},
   "outputs": [
    {
     "data": {
      "text/html": [
       "<div>\n",
       "<style scoped>\n",
       "    .dataframe tbody tr th:only-of-type {\n",
       "        vertical-align: middle;\n",
       "    }\n",
       "\n",
       "    .dataframe tbody tr th {\n",
       "        vertical-align: top;\n",
       "    }\n",
       "\n",
       "    .dataframe thead th {\n",
       "        text-align: right;\n",
       "    }\n",
       "</style>\n",
       "<table border=\"1\" class=\"dataframe\">\n",
       "  <thead>\n",
       "    <tr style=\"text-align: right;\">\n",
       "      <th></th>\n",
       "      <th>PassengerId</th>\n",
       "      <th>Survived</th>\n",
       "      <th>Pclass</th>\n",
       "      <th>Name</th>\n",
       "      <th>Sex</th>\n",
       "      <th>Age</th>\n",
       "      <th>SibSp</th>\n",
       "      <th>Parch</th>\n",
       "      <th>Ticket</th>\n",
       "      <th>Fare</th>\n",
       "      <th>Cabin</th>\n",
       "      <th>Embarked</th>\n",
       "    </tr>\n",
       "  </thead>\n",
       "  <tbody>\n",
       "    <tr>\n",
       "      <th>0</th>\n",
       "      <td>1</td>\n",
       "      <td>0</td>\n",
       "      <td>3</td>\n",
       "      <td>Braund, Mr. Owen Harris</td>\n",
       "      <td>male</td>\n",
       "      <td>22.0</td>\n",
       "      <td>1</td>\n",
       "      <td>0</td>\n",
       "      <td>A/5 21171</td>\n",
       "      <td>7.2500</td>\n",
       "      <td>NaN</td>\n",
       "      <td>S</td>\n",
       "    </tr>\n",
       "    <tr>\n",
       "      <th>1</th>\n",
       "      <td>2</td>\n",
       "      <td>1</td>\n",
       "      <td>1</td>\n",
       "      <td>Cumings, Mrs. John Bradley (Florence Briggs Th...</td>\n",
       "      <td>female</td>\n",
       "      <td>38.0</td>\n",
       "      <td>1</td>\n",
       "      <td>0</td>\n",
       "      <td>PC 17599</td>\n",
       "      <td>71.2833</td>\n",
       "      <td>C85</td>\n",
       "      <td>C</td>\n",
       "    </tr>\n",
       "    <tr>\n",
       "      <th>2</th>\n",
       "      <td>3</td>\n",
       "      <td>1</td>\n",
       "      <td>3</td>\n",
       "      <td>Heikkinen, Miss. Laina</td>\n",
       "      <td>female</td>\n",
       "      <td>26.0</td>\n",
       "      <td>0</td>\n",
       "      <td>0</td>\n",
       "      <td>STON/O2. 3101282</td>\n",
       "      <td>7.9250</td>\n",
       "      <td>NaN</td>\n",
       "      <td>S</td>\n",
       "    </tr>\n",
       "    <tr>\n",
       "      <th>3</th>\n",
       "      <td>4</td>\n",
       "      <td>1</td>\n",
       "      <td>1</td>\n",
       "      <td>Futrelle, Mrs. Jacques Heath (Lily May Peel)</td>\n",
       "      <td>female</td>\n",
       "      <td>35.0</td>\n",
       "      <td>1</td>\n",
       "      <td>0</td>\n",
       "      <td>113803</td>\n",
       "      <td>53.1000</td>\n",
       "      <td>C123</td>\n",
       "      <td>S</td>\n",
       "    </tr>\n",
       "    <tr>\n",
       "      <th>4</th>\n",
       "      <td>5</td>\n",
       "      <td>0</td>\n",
       "      <td>3</td>\n",
       "      <td>Allen, Mr. William Henry</td>\n",
       "      <td>male</td>\n",
       "      <td>35.0</td>\n",
       "      <td>0</td>\n",
       "      <td>0</td>\n",
       "      <td>373450</td>\n",
       "      <td>8.0500</td>\n",
       "      <td>NaN</td>\n",
       "      <td>S</td>\n",
       "    </tr>\n",
       "  </tbody>\n",
       "</table>\n",
       "</div>"
      ],
      "text/plain": [
       "   PassengerId  Survived  Pclass  \\\n",
       "0            1         0       3   \n",
       "1            2         1       1   \n",
       "2            3         1       3   \n",
       "3            4         1       1   \n",
       "4            5         0       3   \n",
       "\n",
       "                                                Name     Sex   Age  SibSp  \\\n",
       "0                            Braund, Mr. Owen Harris    male  22.0      1   \n",
       "1  Cumings, Mrs. John Bradley (Florence Briggs Th...  female  38.0      1   \n",
       "2                             Heikkinen, Miss. Laina  female  26.0      0   \n",
       "3       Futrelle, Mrs. Jacques Heath (Lily May Peel)  female  35.0      1   \n",
       "4                           Allen, Mr. William Henry    male  35.0      0   \n",
       "\n",
       "   Parch            Ticket     Fare Cabin Embarked  \n",
       "0      0         A/5 21171   7.2500   NaN        S  \n",
       "1      0          PC 17599  71.2833   C85        C  \n",
       "2      0  STON/O2. 3101282   7.9250   NaN        S  \n",
       "3      0            113803  53.1000  C123        S  \n",
       "4      0            373450   8.0500   NaN        S  "
      ]
     },
     "execution_count": 3,
     "metadata": {},
     "output_type": "execute_result"
    }
   ],
   "source": [
    "#Titanic datasetini okuyoruz ve ilk 5 satırını inceliyoruz.\n",
    "titanic=pd.read_csv(\"Titanic_dataset.csv\")\n",
    "titanic.head()"
   ]
  },
  {
   "cell_type": "code",
   "execution_count": 4,
   "id": "2f998b57-ce12-4c73-abdb-3df9aab2d3bd",
   "metadata": {},
   "outputs": [
    {
     "name": "stdout",
     "output_type": "stream",
     "text": [
      "<class 'pandas.core.frame.DataFrame'>\n",
      "RangeIndex: 891 entries, 0 to 890\n",
      "Data columns (total 12 columns):\n",
      " #   Column       Non-Null Count  Dtype  \n",
      "---  ------       --------------  -----  \n",
      " 0   PassengerId  891 non-null    int64  \n",
      " 1   Survived     891 non-null    int64  \n",
      " 2   Pclass       891 non-null    int64  \n",
      " 3   Name         891 non-null    object \n",
      " 4   Sex          891 non-null    object \n",
      " 5   Age          714 non-null    float64\n",
      " 6   SibSp        891 non-null    int64  \n",
      " 7   Parch        891 non-null    int64  \n",
      " 8   Ticket       891 non-null    object \n",
      " 9   Fare         891 non-null    float64\n",
      " 10  Cabin        204 non-null    object \n",
      " 11  Embarked     889 non-null    object \n",
      "dtypes: float64(2), int64(5), object(5)\n",
      "memory usage: 83.7+ KB\n"
     ]
    }
   ],
   "source": [
    "titanic.info()"
   ]
  },
  {
   "cell_type": "code",
   "execution_count": 11,
   "id": "9bc17d5c-b34f-40ec-af46-1acee0189abd",
   "metadata": {},
   "outputs": [
    {
     "data": {
      "text/plain": [
       "30.62617924528302"
      ]
     },
     "execution_count": 11,
     "metadata": {},
     "output_type": "execute_result"
    }
   ],
   "source": [
    "#Kazada ölenlerin yaş ortalaması\n",
    "titanic_ölüm=titanic[titanic[\"Survived\"]==0]\n",
    "yas_ortalama_ölüm=titanic_olum[\"Age\"].mean()\n",
    "yas_ortalama_ölüm"
   ]
  },
  {
   "cell_type": "code",
   "execution_count": 13,
   "id": "e5516d5b-279b-4ef5-bfd0-313050bfbe1a",
   "metadata": {},
   "outputs": [
    {
     "data": {
      "text/plain": [
       "(22.117886885245902, 10.5)"
      ]
     },
     "execution_count": 13,
     "metadata": {},
     "output_type": "execute_result"
    }
   ],
   "source": [
    "#Kazada ölenlerin bilet fiyatlarının ortalama ve medyanı\n",
    "bilet_ortalama_ölen=titanic_ölüm[\"Fare\"].mean()\n",
    "bilet_medyan_ölen=titanic_ölüm[\"Fare\"].median()\n",
    "bilet_ortalama_ölen,bilet_medyan_ölen"
   ]
  },
  {
   "cell_type": "code",
   "execution_count": 14,
   "id": "92caccc7-7bc1-474d-84db-238d6d48f3b7",
   "metadata": {},
   "outputs": [
    {
     "data": {
      "text/plain": [
       "31.618055555555557"
      ]
     },
     "execution_count": 14,
     "metadata": {},
     "output_type": "execute_result"
    }
   ],
   "source": [
    "#Kazada ölen erkeklerin yaş ortalaması\n",
    "erkek_ölüm_yas_ortalama=titanic_ölüm[titanic_ölüm[\"Sex\"]==\"male\"][\"Age\"].mean()\n",
    "erkek_ölüm_yas_ortalama"
   ]
  },
  {
   "cell_type": "code",
   "execution_count": 15,
   "id": "633afbe5-9d16-4ad6-a1db-8a27c01c548a",
   "metadata": {},
   "outputs": [
    {
     "data": {
      "text/plain": [
       "25.046875"
      ]
     },
     "execution_count": 15,
     "metadata": {},
     "output_type": "execute_result"
    }
   ],
   "source": [
    "#Kazada ölen kadınların yaş ortalaması\n",
    "kadın_ölüm_yas_ortalama=titanic_ölüm[titanic_ölüm[\"Sex\"]==\"female\"][\"Age\"].mean()\n",
    "kadın_ölüm_yas_ortalama"
   ]
  },
  {
   "cell_type": "code",
   "execution_count": 16,
   "id": "6c8f95d5-338e-4b0c-8c62-00ea5841ddf7",
   "metadata": {},
   "outputs": [
    {
     "data": {
      "text/plain": [
       "28.343689655172415"
      ]
     },
     "execution_count": 16,
     "metadata": {},
     "output_type": "execute_result"
    }
   ],
   "source": [
    "#Kazadan kurtulanların yaş ortalaması\n",
    "titanic_yasayan=titanic[titanic[\"Survived\"]==1]\n",
    "yasayan_ortalama=titanic_yasayan[\"Age\"].mean()\n",
    "yasayan_ortalama"
   ]
  },
  {
   "cell_type": "code",
   "execution_count": 18,
   "id": "c97365ec-46dd-40db-b8b1-79b82b8d8280",
   "metadata": {},
   "outputs": [
    {
     "data": {
      "text/plain": [
       "48.39540760233918"
      ]
     },
     "execution_count": 18,
     "metadata": {},
     "output_type": "execute_result"
    }
   ],
   "source": [
    "#Kazadan kurtulanların bilet fiyatlarının ortalaması\n",
    "#titanic_yasayan=titanic[titanic[\"Survived\"]==1]\n",
    "bilet_ortalama_yasayan=titanic_yasayan[\"Fare\"].mean()\n",
    "bilet_ortalama_yasayan"
   ]
  },
  {
   "cell_type": "code",
   "execution_count": 20,
   "id": "99df7cab-27dd-4b9a-b249-6587d04f47bb",
   "metadata": {},
   "outputs": [
    {
     "data": {
      "text/plain": [
       "342"
      ]
     },
     "execution_count": 20,
     "metadata": {},
     "output_type": "execute_result"
    }
   ],
   "source": [
    "#Kazadan kurtulan toplam kişi sayısı\n",
    "toplam_yasayan_kisi=len(titanic_yasayan)\n",
    "toplam_yasayan_kisi"
   ]
  },
  {
   "cell_type": "code",
   "execution_count": 21,
   "id": "a3342ada-a745-4271-a16f-0fdc23e5fad7",
   "metadata": {},
   "outputs": [
    {
     "data": {
      "text/plain": [
       "27.0"
      ]
     },
     "execution_count": 21,
     "metadata": {},
     "output_type": "execute_result"
    }
   ],
   "source": [
    "#10 yaşından küçüklerin bilet fiyatlarının medyan değeri\n",
    "on_yasından_kücükler=titanic[titanic[\"Age\"]<10][\"Fare\"].median()\n",
    "on_yasından_kücükler"
   ]
  },
  {
   "cell_type": "code",
   "execution_count": 23,
   "id": "d2b12b27-bcdf-4aa2-b42b-561926231d2e",
   "metadata": {},
   "outputs": [
    {
     "data": {
      "text/html": [
       "<div>\n",
       "<style scoped>\n",
       "    .dataframe tbody tr th:only-of-type {\n",
       "        vertical-align: middle;\n",
       "    }\n",
       "\n",
       "    .dataframe tbody tr th {\n",
       "        vertical-align: top;\n",
       "    }\n",
       "\n",
       "    .dataframe thead th {\n",
       "        text-align: right;\n",
       "    }\n",
       "</style>\n",
       "<table border=\"1\" class=\"dataframe\">\n",
       "  <thead>\n",
       "    <tr style=\"text-align: right;\">\n",
       "      <th></th>\n",
       "      <th>mean</th>\n",
       "      <th>median</th>\n",
       "    </tr>\n",
       "    <tr>\n",
       "      <th>Pclass</th>\n",
       "      <th></th>\n",
       "      <th></th>\n",
       "    </tr>\n",
       "  </thead>\n",
       "  <tbody>\n",
       "    <tr>\n",
       "      <th>1</th>\n",
       "      <td>84.154687</td>\n",
       "      <td>60.2875</td>\n",
       "    </tr>\n",
       "    <tr>\n",
       "      <th>2</th>\n",
       "      <td>20.662183</td>\n",
       "      <td>14.2500</td>\n",
       "    </tr>\n",
       "    <tr>\n",
       "      <th>3</th>\n",
       "      <td>13.675550</td>\n",
       "      <td>8.0500</td>\n",
       "    </tr>\n",
       "  </tbody>\n",
       "</table>\n",
       "</div>"
      ],
      "text/plain": [
       "             mean   median\n",
       "Pclass                    \n",
       "1       84.154687  60.2875\n",
       "2       20.662183  14.2500\n",
       "3       13.675550   8.0500"
      ]
     },
     "execution_count": 23,
     "metadata": {},
     "output_type": "execute_result"
    }
   ],
   "source": [
    "#1.sınıf, 2.sınıf ve 3.sınıf bilet fiyatlarının ortalama ve medyanları\n",
    "sınıflar=titanic.groupby(\"Pclass\")[\"Fare\"].agg([\"mean\",\"median\"])\n",
    "sınıflar"
   ]
  },
  {
   "cell_type": "code",
   "execution_count": 24,
   "id": "43dfa25f-f69c-429d-a919-0ab42afc72a2",
   "metadata": {},
   "outputs": [
    {
     "data": {
      "text/plain": [
       "(0.25796178343949044, 0.8110918544194108)"
      ]
     },
     "execution_count": 24,
     "metadata": {},
     "output_type": "execute_result"
    }
   ],
   "source": [
    "#Kazada ölen kadınların oranı ile erkeklerin oranı\n",
    "toplam_erkek_sayısı=titanic[titanic[\"Sex\"]==\"male\"].shape[0]\n",
    "toplam_kadın_sayısı=titanic[titanic[\"Sex\"]==\"female\"].shape[0]\n",
    "ölen_erkek_sayısı=titanic_ölüm[titanic_ölüm[\"Sex\"]==\"male\"].shape[0]\n",
    "ölen_kadın_sayısı=titanic_ölüm[titanic_ölüm[\"Sex\"]==\"female\"].shape[0]\n",
    "\n",
    "kadın_ölüm_oranı=ölen_kadın_sayısı / toplam_kadın_sayısı\n",
    "erkek_ölüm_oranı=ölen_erkek_sayısı / toplam_erkek_sayısı\n",
    "kadın_ölüm_oranı,erkek_ölüm_oranı"
   ]
  },
  {
   "cell_type": "code",
   "execution_count": null,
   "id": "abbbfcfc-4bae-4d1e-8945-6fb77906daa0",
   "metadata": {},
   "outputs": [],
   "source": []
  }
 ],
 "metadata": {
  "kernelspec": {
   "display_name": "Python 3 (ipykernel)",
   "language": "python",
   "name": "python3"
  },
  "language_info": {
   "codemirror_mode": {
    "name": "ipython",
    "version": 3
   },
   "file_extension": ".py",
   "mimetype": "text/x-python",
   "name": "python",
   "nbconvert_exporter": "python",
   "pygments_lexer": "ipython3",
   "version": "3.12.7"
  }
 },
 "nbformat": 4,
 "nbformat_minor": 5
}
