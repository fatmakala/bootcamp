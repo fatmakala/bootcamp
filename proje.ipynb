{
 "cells": [
  {
   "cell_type": "code",
   "execution_count": 2,
   "id": "fb1ef9d8-dcc7-4dcf-8c0d-07b7647932e7",
   "metadata": {},
   "outputs": [
    {
     "name": "stdout",
     "output_type": "stream",
     "text": [
      "[1, 'a', 'cat', 2, 3, 'dog', 4, 5]\n"
     ]
    }
   ],
   "source": [
    "def flatten(lst):\n",
    "    result = []\n",
    "    for item in lst:\n",
    "        if isinstance(item, list):\n",
    "            result.extend(flatten(item))  # Eğer öğe bir liste ise, fonksiyonu tekrar çağırarak düzleştir.\n",
    "        else:\n",
    "            result.append(item)  # Eğer öğe liste değilse, doğrudan ekle.\n",
    "    return result\n",
    "\n",
    "# Test\n",
    "input_list = [[1, 'a', ['cat'], 2], [[[3]], 'dog'], 4, 5]\n",
    "output = flatten(input_list)\n",
    "print(output)  # [1, 'a', 'cat', 2, 3, 'dog', 4, 5]"
   ]
  },
  {
   "cell_type": "code",
   "execution_count": 3,
   "id": "9fafdea8-17ef-4fc6-b1c1-169183cc2fcf",
   "metadata": {},
   "outputs": [
    {
     "name": "stdout",
     "output_type": "stream",
     "text": [
      "[[7, 6, 5], [4, 3], [2, 1]]\n"
     ]
    }
   ],
   "source": [
    "def reverse_nested(lst):\n",
    "    reversed_list = []\n",
    "    for item in lst:\n",
    "        if isinstance(item, list):\n",
    "            reversed_list.append(reverse_nested(item))  # Eğer öğe bir liste ise, fonksiyonu tekrar çağırarak tersine çevir.\n",
    "        else:\n",
    "            reversed_list.append(item)  # Eğer öğe liste değilse, doğrudan ekle.\n",
    "    return reversed_list[::-1]  # Tersine döndür.\n",
    "\n",
    "# Test\n",
    "input_list = [[1, 2], [3, 4], [5, 6, 7]]\n",
    "output = reverse_nested(input_list)\n",
    "print(output)  # [[[7, 6, 5], [4, 3], [2, 1]]]\n"
   ]
  },
  {
   "cell_type": "code",
   "execution_count": null,
   "id": "27012b21-b34b-404f-a56d-8108fa37cf3c",
   "metadata": {},
   "outputs": [],
   "source": []
  }
 ],
 "metadata": {
  "kernelspec": {
   "display_name": "Python 3 (ipykernel)",
   "language": "python",
   "name": "python3"
  },
  "language_info": {
   "codemirror_mode": {
    "name": "ipython",
    "version": 3
   },
   "file_extension": ".py",
   "mimetype": "text/x-python",
   "name": "python",
   "nbconvert_exporter": "python",
   "pygments_lexer": "ipython3",
   "version": "3.12.7"
  }
 },
 "nbformat": 4,
 "nbformat_minor": 5
}
